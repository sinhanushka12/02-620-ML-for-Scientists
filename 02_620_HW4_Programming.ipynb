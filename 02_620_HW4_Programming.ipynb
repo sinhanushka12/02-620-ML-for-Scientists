{
  "cells": [
    {
      "cell_type": "markdown",
      "metadata": {
        "id": "rorptd0liZH7"
      },
      "source": [
        "#__02-620 HW4 Programming - Image classification using Pytorch__\n",
        "\n",
        "In this last homework, we will learn basic deep learning. Deep learning is a fast moving research area. There is ongoing research on why it works so well, but so far the theory of deep learning is still building in progress. Due to this nature of the field, hands-on experience is the most important in deep learning.\n",
        "\n",
        "We will use Pytorch, one of the popular deep learning frameworks. If you are unfamiliar with the Pytorch, please watch the recitation video and look at the recitation material, where we covered basic understanding of Pytorch.\n",
        "\n",
        "Because our course is an introductory machine learning course, we covered broad topics in machine learning and thus we can't go very deep into deep learning. So we will go through only the basics of deep learning. Throughout the homework, we hope you'll get familiar with deep learning and Pytorch framework.\n",
        "\n",
        "Referenced 16-720 and 16-824, great courses in CMU"
      ]
    },
    {
      "cell_type": "code",
      "execution_count": null,
      "metadata": {
        "colab": {
          "base_uri": "https://localhost:8080/"
        },
        "id": "DuH7q_3miVYT",
        "outputId": "ddf78457-b183-4f71-d0c9-77576867b17b"
      },
      "outputs": [
        {
          "output_type": "execute_result",
          "data": {
            "text/plain": [
              "<torch._C.Generator at 0x7faa201bf590>"
            ]
          },
          "metadata": {},
          "execution_count": 17
        }
      ],
      "source": [
        "#Feel free to import any required library you need.\n",
        "import torch\n",
        "import torchvision\n",
        "import torch.nn as nn\n",
        "import torch.nn.functional as F\n",
        "from torchvision import datasets\n",
        "from torch.utils.data import DataLoader \n",
        "from torch.utils.data import Dataset\n",
        "from torchvision.transforms import ToTensor\n",
        "import glob\n",
        "from torchvision import transforms\n",
        "import seaborn as sns\n",
        "import numpy as np\n",
        "\n",
        "import matplotlib.pyplot as plt\n",
        "import os\n",
        "import pandas as pd\n",
        "torch.manual_seed(0) #For reproducibility"
      ]
    },
    {
      "cell_type": "markdown",
      "metadata": {
        "id": "YTXZHyHSiXPC"
      },
      "source": [
        "#__General Task description__\n",
        "\n",
        "In this assignment, our task is to build a workflow of classifying the objects using deep learning models. The dataset we are interested in is CIFAR10(https://www.cs.toronto.edu/~kriz/cifar.html). This dataset includes 60,000 32x32 color images in 10 clases. It has 50,000 training samples and 10,000 test samples. You can download the dataset using torchvision.datasets.CIFAR10()\n",
        "\n",
        "__TODOs__\n",
        "1. Change path to your desired path!!!\n",
        "2. Once you download your data, you can change it to False"
      ]
    },
    {
      "cell_type": "code",
      "source": [
        "train_transform = transforms.Compose([\n",
        "    transforms.Resize((256)), \n",
        "    transforms.ToTensor(),\n",
        "    transforms.RandomRotation(degrees=(0, 180)), \n",
        "    transforms.Normalize((0.5, 0.5, 0.5), (0.5, 0.5, 0.5))])\n",
        "\n",
        "test_transform = transforms.Compose([\n",
        "    transforms.Resize((256)), \n",
        "    transforms.ToTensor(),\n",
        "    transforms.Normalize((0.5, 0.5, 0.5), (0.5, 0.5, 0.5))])"
      ],
      "metadata": {
        "id": "Ymyb-3GVLviz"
      },
      "execution_count": null,
      "outputs": []
    },
    {
      "cell_type": "code",
      "execution_count": null,
      "metadata": {
        "colab": {
          "base_uri": "https://localhost:8080/"
        },
        "id": "XvVmFzQ6_jZA",
        "outputId": "35f9a2ee-8683-40fa-c410-0c2d79a902e6"
      },
      "outputs": [
        {
          "output_type": "stream",
          "name": "stdout",
          "text": [
            "Files already downloaded and verified\n",
            "Files already downloaded and verified\n"
          ]
        }
      ],
      "source": [
        "# use this one\n",
        "# path = \"./\"\n",
        "# download=True\n",
        "# trainset = torchvision.datasets.CIFAR10(root = path, train=True,download=download, transform= )\n",
        "# testset = torchvision.datasets.CIFAR10( root = path ,train=False, download=download, transform = )"
      ]
    },
    {
      "cell_type": "code",
      "source": [
        "# For task 1\n",
        "path = \"./\"\n",
        "download=True\n",
        "trainset = torchvision.datasets.CIFAR10(root = path, train=True,download=download, transform = train_transform)\n",
        "testset = torchvision.datasets.CIFAR10( root = path ,train=False, download=download, transform = test_transform)"
      ],
      "metadata": {
        "colab": {
          "base_uri": "https://localhost:8080/"
        },
        "id": "qKfNxU610VtP",
        "outputId": "1122f6af-c636-4944-d3ec-201ecc0e0e96"
      },
      "execution_count": null,
      "outputs": [
        {
          "output_type": "stream",
          "name": "stdout",
          "text": [
            "Downloading https://www.cs.toronto.edu/~kriz/cifar-10-python.tar.gz to ./cifar-10-python.tar.gz\n"
          ]
        },
        {
          "output_type": "stream",
          "name": "stderr",
          "text": [
            "100%|██████████| 170498071/170498071 [00:01<00:00, 100772326.98it/s]\n"
          ]
        },
        {
          "output_type": "stream",
          "name": "stdout",
          "text": [
            "Extracting ./cifar-10-python.tar.gz to ./\n",
            "Files already downloaded and verified\n"
          ]
        }
      ]
    },
    {
      "cell_type": "markdown",
      "metadata": {
        "id": "5hidjbg1lp62"
      },
      "source": [
        "#__Task 1 Build your own DataLoader(10 Points)__\n",
        "\n",
        "As we covered in the recitation, Pytorch uses the DataLoader class to bring datapoints to the neural network. You can do any preprocessing in this step.\n",
        "\n",
        "Take a look at https://pytorch.org/tutorials/beginner/basics/data_tutorial.html\n",
        "\n",
        "There can be possibility that you don't have enough dataset. In this case, we can populate the dataset using data augmentation. For example, in Computer Vision, one way to augment your data is adding rotated images.\n",
        "\n",
        "BE CAREFUL: In Pytorch, one of the argument in the DataLoader is indicating train or test. This is very important argument because you do data augmentation with training samples, but not with test samples. You should consider this when you implement DataLoader.\n",
        "\n",
        "Tip:\n",
        "1. It is very important to understand what is your data and how they are organized. Observe how folder and files strutured in the downloaded CIFAR10. See the annotation files, open the images, try to see if there is any pattern in file name, etc.\n",
        "2. For data augmentation, feel free to use methods in torchvision.transforms\n",
        "\n",
        "__TODOs__\n",
        "1. Form your own DataLoader\n",
        "2. In the __getitem__, add your own data augmentation.\n",
        "3. You should have an variable that controls size of the image. For this assignment, use size of 256: that is, image should be (256, 256, 3). Please be mind that when you load this image to the Tensor, it might be changed to (3, 256, 256)"
      ]
    },
    {
      "cell_type": "code",
      "execution_count": null,
      "metadata": {
        "colab": {
          "base_uri": "https://localhost:8080/"
        },
        "id": "TmcMdWLueG1p",
        "outputId": "6f2d0251-d3f2-428a-98d2-b0ef7ada7de1"
      },
      "outputs": [
        {
          "output_type": "stream",
          "name": "stdout",
          "text": [
            "Shape of X [N, C, H, W]: torch.Size([64, 3, 256, 256])\n",
            "Shape of y: torch.Size([64]) torch.int64\n"
          ]
        }
      ],
      "source": [
        "batch_size = 64\n",
        "\n",
        "# DataLoader from the package \n",
        "train_dataloader = DataLoader(trainset, batch_size=batch_size)\n",
        "test_dataloader = DataLoader(testset, batch_size=batch_size)\n",
        "\n",
        "for X, y in test_dataloader:\n",
        "    print(f\"Shape of X [N, C, H, W]: {X.shape}\")\n",
        "    print(f\"Shape of y: {y.shape} {y.dtype}\")\n",
        "    break"
      ]
    },
    {
      "cell_type": "code",
      "execution_count": null,
      "metadata": {
        "id": "OiO8xFxvl_T_"
      },
      "outputs": [],
      "source": [
        "# # Trying Task 1\n",
        "# class CustomImageDataset(Dataset):\n",
        "#     def __init__(self, trainset.targets, trainset.data, transform=None, target_transform=None):\n",
        "#         self.img_labels = trainset.target\n",
        "#         self.img_dir = trainset.data\n",
        "#         self.transform = transform\n",
        "\n",
        "#     def __len__(self):\n",
        "#         return len(self.img_labels)\n",
        "\n",
        "#     def __getitem__(self, idx):\n",
        "#         img_path = os.path.join(self.img_dir, self.img_labels.iloc[idx, 0])\n",
        "#         image = read_image(img_path)\n",
        "#         label = self.img_labels.iloc[idx, 1]\n",
        "#         if self.transform:\n",
        "#             image = self.transform(image)\n",
        "#         if self.target_transform:\n",
        "#             label = self.target_transform(label)\n",
        "#         return image, label"
      ]
    },
    {
      "cell_type": "markdown",
      "metadata": {
        "id": "cp4D2nRimfbs"
      },
      "source": [
        "Now you should be able to bring and use your Dataloader"
      ]
    },
    {
      "cell_type": "code",
      "source": [
        "# continue task 1\n",
        "# newTrainSet = CustomImageDataset(trainset.targets, trainset.data, transform = train_transform)\n",
        "# newTestSet = CustomImageDataset(testset.targets, testset.data, transform = test_transform)\n",
        "# augTrainSet = CustomImageDataset(trainset.targets, trainset.data, transform = augTrainTransform)"
      ],
      "metadata": {
        "id": "gg0dqtFxzUfj"
      },
      "execution_count": null,
      "outputs": []
    },
    {
      "cell_type": "code",
      "execution_count": null,
      "metadata": {
        "id": "5oN273lame6l"
      },
      "outputs": [],
      "source": [
        "trainloader = torch.utils.data.DataLoader(trainset, batch_size=64,shuffle=True, num_workers=2)\n",
        "testloader = torch.utils.data.DataLoader(testset, batch_size=64, shuffle=False, num_workers=2)"
      ]
    },
    {
      "cell_type": "markdown",
      "metadata": {
        "id": "74CqYohGnURP"
      },
      "source": [
        "#__Task 2 Build Neural Network(5 Points)__\n",
        "\n",
        "If you look at some of the deep learning papers, they provide their model architecture, which is how they organized their neural network. Through this task, you should be able to rebuild the neural network given model architecture.\n",
        "The model we are interested in is AlexNet(https://arxiv.org/abs/1404.5997). For simplicity, we are going to implement a slightly simplified version.\n",
        "\n",
        "\n",
        "This is the model you should rebuild:\n",
        "\n",
        "AlexNet(\n",
        "\n",
        "  (features): Sequential(\n",
        "  \n",
        "    (0): Conv2d(3, 64, kernel_size=(11, 11), stride=(4, 4), padding=(2, 2))\n",
        "    (1): ReLU(inplace)\n",
        "    (2): MaxPool2d(kernel_size=(3, 3), stride=(2, 2), dilation=(1, 1), ceil_mode=False)\n",
        "    (3): Conv2d(64, 192, kernel_size=(5, 5), stride=(1, 1), padding=(2, 2))\n",
        "    (4): ReLU(inplace)\n",
        "    (5): MaxPool2d(kernel_size=(3, 3), stride=(2, 2), dilation=(1, 1), ceil_mode=False)\n",
        "    (6): Conv2d(192, 384, kernel_size=(3, 3), stride=(1, 1), padding=(1, 1))\n",
        "    (7): ReLU(inplace)\n",
        "    (8): Conv2d(384, 256, kernel_size=(3, 3), stride=(1, 1), padding=(1, 1))\n",
        "    (9): ReLU(inplace)\n",
        "    (10): Conv2d(256, 256, kernel_size=(3, 3), stride=(1, 1), padding=(1, 1))\n",
        "    (11): ReLU(inplace))\n",
        "  \n",
        "  (classifier): Sequential(\n",
        "  \n",
        "    (0): Conv2d(256, 256, kernel_size=(3, 3), stride=(1, 1))\n",
        "    (1): ReLU(inplace)\n",
        "    (2): Conv2d(256, 256, kernel_size=(1, 1), stride=(1, 1))\n",
        "    (3): ReLU(inplace)\n",
        "    (4): Conv2d(256, 20, kernel_size=(1, 1), stride=(1, 1)))\n",
        ")\n",
        "\n",
        "\n",
        "__TODO: Implement the model architcture__"
      ]
    },
    {
      "cell_type": "code",
      "execution_count": null,
      "metadata": {
        "id": "F8zVkoTmnToH"
      },
      "outputs": [],
      "source": [
        "class AlexNet(nn.Module):\n",
        "    def __init__(self, num_classes=10):\n",
        "        super(AlexNet, self).__init__()\n",
        "        #TODO: Define Features\n",
        "        self.features=nn.Sequential(\n",
        "            nn.Conv2d(3, 64, kernel_size=(11, 11), stride=(4, 4), padding=(2, 2)),\n",
        "            nn.ReLU(),\n",
        "            nn.MaxPool2d(kernel_size=(3, 3), stride=(2, 2), dilation=(1, 1), ceil_mode=False),\n",
        "            nn.Conv2d(64, 192, kernel_size=(5, 5), stride=(1, 1), padding=(2, 2)),\n",
        "            nn.ReLU(),\n",
        "            nn.MaxPool2d(kernel_size=(3, 3), stride=(2, 2), dilation=(1, 1), ceil_mode=False),\n",
        "            nn.Conv2d(192, 384, kernel_size=(3, 3), stride=(1, 1), padding=(1, 1)),\n",
        "            nn.ReLU(),\n",
        "            nn.Conv2d(384, 256, kernel_size=(3, 3), stride=(1, 1), padding=(1, 1)),\n",
        "            nn.ReLU(),\n",
        "            nn.Conv2d(256, 256, kernel_size=(3, 3), stride=(1, 1), padding=(1, 1)),\n",
        "            nn.ReLU())\n",
        "        \n",
        "        \n",
        "        #TODO: Define Classifiers\n",
        "        self.classifier=nn.Sequential(\n",
        "            nn.Conv2d(256, 256, kernel_size=(3, 3), stride=(1, 1)),\n",
        "            nn.ReLU(),\n",
        "            nn.Conv2d(256, 256, kernel_size=(1, 1), stride=(1, 1)),\n",
        "            nn.ReLU(),\n",
        "            nn.Conv2d(256, 10, kernel_size=(1, 1), stride=(1, 1)))\n",
        "        \n",
        "        #We will give this initialization for you\n",
        "        for neuron in self.features:\n",
        "            if isinstance(neuron,nn.Conv2d):\n",
        "                nn.init.xavier_uniform_(neuron.weight)\n",
        "        \n",
        "        \n",
        "    def forward(self, x):\n",
        "        #TODO: Define forward pass\n",
        "        x = self.features(x)\n",
        "        x = self.classifier(x)\n",
        "  \n",
        "        return x"
      ]
    },
    {
      "cell_type": "markdown",
      "metadata": {
        "id": "sh23nNuBpp6F"
      },
      "source": [
        "#__Task 3 Build deep learning pipeline(20 Points)__\n",
        "\n",
        "You have Dataset, DataLoader, and your model. It's time to make a pipeline with ingredients. In the recitation, we covered that before we build a training loop, we need to define loss and optimizer. Due to the limited time, we will provide you with loss and optimizer. Use the given parameters."
      ]
    },
    {
      "cell_type": "code",
      "execution_count": null,
      "metadata": {
        "id": "rl8m7gVArfFf"
      },
      "outputs": [],
      "source": [
        "#Do not change this cell\n",
        "device = \"cuda\" if torch.cuda.is_available() else \"mps\" if torch.backends.mps.is_available() else \"cpu\"\n",
        "model = AlexNet().to(device)\n",
        "num_iter=20\n",
        "loss_fn=nn.BCELoss()\n",
        "optimizer=torch.torch.optim.SGD(model.parameters(),lr=0.1)\n",
        "scheduler = torch.optim.lr_scheduler.ReduceLROnPlateau(optimizer, 'min')"
      ]
    },
    {
      "cell_type": "markdown",
      "metadata": {
        "id": "GWWDh9wirgx-"
      },
      "source": [
        "Now, build a deep learning pipeline. \n",
        "\n",
        "__TODOs: Finish the pipeline. Bring your DataLoader and the model here. Organize the train loop and test loop, and then train and test your model. At the end of the pipeline, your pipeline should be able to provide graphs of training accuracy, test accuracy and training loss, and report final test accuracy. If you implement it well, your test accuracy should be around 65%.__\n",
        "\n",
        "__IMPORTANT: After you get predictions from your model, please add below codes before you put the prediction into loss function. Remember below lines should be added in both training loop and test loop!__\n",
        "\n",
        "        (assume you used pred=model(X))\n",
        "        '''\n",
        "        final_layer=nn.MaxPool2d((pred.size(2),pred.size(3)))\n",
        "        pred=final_layer(pred)\n",
        "        pred=torch.reshape(pred,(-1,10))#(-1,10)\n",
        "        pred=F.sigmoid(pred)\n",
        "        '''\n",
        "        Then loss(pred,y) and goes on"
      ]
    },
    {
      "cell_type": "code",
      "execution_count": null,
      "metadata": {
        "id": "Eq55nAxfs8Mb"
      },
      "outputs": [],
      "source": [
        "#Your code here\n",
        "def train(dataloader, model, loss_fn, optimizer):\n",
        "    size = len(dataloader.dataset)\n",
        "    model.train()\n",
        "    trainAcc = 0\n",
        "    for batch, (X, y) in enumerate(dataloader):\n",
        "        X, y = X.to(device), y.to(device)\n",
        "        pred=model(X)\n",
        "        final_layer=nn.MaxPool2d((pred.size(2),pred.size(3)))\n",
        "        yOH = F.one_hot(y, num_classes=10)\n",
        "        yOH = yOH.to(device).float()\n",
        "        # Compute prediction error\n",
        "        pred = final_layer(pred)\n",
        "        pred=torch.reshape(pred,(-1,10))#(-1,10)\n",
        "        pred=F.sigmoid(pred)\n",
        "        loss = loss_fn(pred, yOH)\n",
        "        # Backpropagation\n",
        "        optimizer.zero_grad()\n",
        "        loss.backward()\n",
        "        optimizer.step()\n",
        "        trainAcc += (pred.argmax(1) == y).type(torch.float).sum().item()\n",
        "        \n",
        "        if batch % 100 == 0:\n",
        "            loss, current = loss.item(), (batch + 1) * len(X)\n",
        "            print(f\"loss: {loss:>7f}  [{current:>5d}/{size:>5d}]\")\n",
        "        \n",
        "    return trainAcc, loss\n"
      ]
    },
    {
      "cell_type": "code",
      "source": [
        "def test(dataloader, model, loss_fn):\n",
        "    size = len(dataloader.dataset)\n",
        "    num_batches = len(dataloader)\n",
        "    model.eval()\n",
        "    test_loss, correct = 0, 0\n",
        "    with torch.no_grad():\n",
        "        for X, y in dataloader:\n",
        "            X, y = X.to(device), y.to(device)\n",
        "            yOH = F.one_hot(y, num_classes=10)\n",
        "            yOH = yOH.to(device).float()\n",
        "            pred = model(X)\n",
        "            final_layer=nn.MaxPool2d((pred.size(2),pred.size(3)))\n",
        "            pred = final_layer(pred)\n",
        "            pred=torch.reshape(pred,(-1,10))#(-1,10)\n",
        "            pred=F.sigmoid(pred)\n",
        "            test_loss += loss_fn(pred, yOH).item()\n",
        "            correct += (pred.argmax(1) == y).type(torch.float).sum().item()\n",
        "    test_loss /= num_batches\n",
        "    correct /= size\n",
        "    print(f\"Test Error: \\n Accuracy: {(100*correct):>0.1f}%, Avg loss: {test_loss:>8f} \\n\")\n",
        "    return correct*100"
      ],
      "metadata": {
        "id": "SuN5SkpPPQyG"
      },
      "execution_count": null,
      "outputs": []
    },
    {
      "cell_type": "code",
      "source": [
        "# run for 20 and plot\n",
        "train_accuracy = []\n",
        "test_accuracy = []\n",
        "train_loss = []\n",
        "epochs = 20\n",
        "for t in range(epochs):\n",
        "    print(f\"Epoch {t+1}\\n-------------------------------\")\n",
        "    train_accu, loss = train(train_dataloader, model, loss_fn, optimizer)\n",
        "    train_accuracy.append(train_accu)\n",
        "    train_loss.append(loss)\n",
        "    correct = test(test_dataloader, model, loss_fn)\n",
        "    test_accuracy.append(correct)\n",
        "print(\"Done!\")\n",
        "print(f\"TrainAccuracy: {train_accuracy}\")\n",
        "print(f\"TestAccuracy: {test_accuracy}\")\n",
        "print(f\"TrainLoss: {train_loss}\")"
      ],
      "metadata": {
        "colab": {
          "base_uri": "https://localhost:8080/"
        },
        "id": "PFYo_TboQW-2",
        "outputId": "080c2c6a-cd3b-494a-c971-a192f2294a94"
      },
      "execution_count": null,
      "outputs": [
        {
          "output_type": "stream",
          "name": "stdout",
          "text": [
            "Epoch 1\n",
            "-------------------------------\n",
            "loss: 0.690726  [   64/50000]\n",
            "loss: 0.335968  [ 6464/50000]\n",
            "loss: 0.330204  [12864/50000]\n",
            "loss: 0.328960  [19264/50000]\n",
            "loss: 0.326720  [25664/50000]\n",
            "loss: 0.326723  [32064/50000]\n",
            "loss: 0.325679  [38464/50000]\n",
            "loss: 0.324282  [44864/50000]\n",
            "Test Error: \n",
            " Accuracy: 11.5%, Avg loss: 0.325979 \n",
            "\n",
            "Epoch 2\n",
            "-------------------------------\n",
            "loss: 0.321630  [   64/50000]\n",
            "loss: 0.322463  [ 6464/50000]\n",
            "loss: 0.313135  [12864/50000]\n",
            "loss: 0.318975  [19264/50000]\n",
            "loss: 0.318356  [25664/50000]\n",
            "loss: 0.312119  [32064/50000]\n",
            "loss: 0.306582  [38464/50000]\n",
            "loss: 0.304034  [44864/50000]\n",
            "Test Error: \n",
            " Accuracy: 21.1%, Avg loss: 0.308357 \n",
            "\n",
            "Epoch 3\n",
            "-------------------------------\n",
            "loss: 0.310129  [   64/50000]\n",
            "loss: 0.312499  [ 6464/50000]\n",
            "loss: 0.295633  [12864/50000]\n",
            "loss: 0.310921  [19264/50000]\n",
            "loss: 0.309169  [25664/50000]\n",
            "loss: 0.303870  [32064/50000]\n",
            "loss: 0.300230  [38464/50000]\n",
            "loss: 0.294374  [44864/50000]\n",
            "Test Error: \n",
            " Accuracy: 22.1%, Avg loss: 0.312442 \n",
            "\n",
            "Epoch 4\n",
            "-------------------------------\n",
            "loss: 0.304734  [   64/50000]\n",
            "loss: 0.298425  [ 6464/50000]\n",
            "loss: 0.285148  [12864/50000]\n",
            "loss: 0.296290  [19264/50000]\n",
            "loss: 0.300447  [25664/50000]\n",
            "loss: 0.303527  [32064/50000]\n",
            "loss: 0.291330  [38464/50000]\n",
            "loss: 0.289026  [44864/50000]\n",
            "Test Error: \n",
            " Accuracy: 21.9%, Avg loss: 0.307277 \n",
            "\n",
            "Epoch 5\n",
            "-------------------------------\n",
            "loss: 0.300404  [   64/50000]\n",
            "loss: 0.290517  [ 6464/50000]\n",
            "loss: 0.272322  [12864/50000]\n",
            "loss: 0.283055  [19264/50000]\n",
            "loss: 0.291616  [25664/50000]\n",
            "loss: 0.292218  [32064/50000]\n",
            "loss: 0.281788  [38464/50000]\n",
            "loss: 0.286186  [44864/50000]\n",
            "Test Error: \n",
            " Accuracy: 25.4%, Avg loss: 0.294346 \n",
            "\n",
            "Epoch 6\n",
            "-------------------------------\n",
            "loss: 0.292698  [   64/50000]\n",
            "loss: 0.273796  [ 6464/50000]\n",
            "loss: 0.264682  [12864/50000]\n",
            "loss: 0.279524  [19264/50000]\n",
            "loss: 0.285862  [25664/50000]\n",
            "loss: 0.287752  [32064/50000]\n",
            "loss: 0.281685  [38464/50000]\n",
            "loss: 0.278542  [44864/50000]\n",
            "Test Error: \n",
            " Accuracy: 27.4%, Avg loss: 0.290387 \n",
            "\n",
            "Epoch 7\n",
            "-------------------------------\n",
            "loss: 0.292485  [   64/50000]\n",
            "loss: 0.269347  [ 6464/50000]\n",
            "loss: 0.265554  [12864/50000]\n",
            "loss: 0.275260  [19264/50000]\n",
            "loss: 0.281496  [25664/50000]\n",
            "loss: 0.290979  [32064/50000]\n",
            "loss: 0.277938  [38464/50000]\n",
            "loss: 0.273079  [44864/50000]\n",
            "Test Error: \n",
            " Accuracy: 28.2%, Avg loss: 0.284612 \n",
            "\n",
            "Epoch 8\n",
            "-------------------------------\n",
            "loss: 0.285024  [   64/50000]\n",
            "loss: 0.275121  [ 6464/50000]\n",
            "loss: 0.256023  [12864/50000]\n",
            "loss: 0.265572  [19264/50000]\n",
            "loss: 0.271791  [25664/50000]\n",
            "loss: 0.283233  [32064/50000]\n",
            "loss: 0.273890  [38464/50000]\n",
            "loss: 0.280260  [44864/50000]\n",
            "Test Error: \n",
            " Accuracy: 28.8%, Avg loss: 0.285404 \n",
            "\n",
            "Epoch 9\n",
            "-------------------------------\n",
            "loss: 0.285857  [   64/50000]\n",
            "loss: 0.249001  [ 6464/50000]\n",
            "loss: 0.251701  [12864/50000]\n",
            "loss: 0.261115  [19264/50000]\n",
            "loss: 0.270216  [25664/50000]\n",
            "loss: 0.288879  [32064/50000]\n",
            "loss: 0.277157  [38464/50000]\n",
            "loss: 0.276212  [44864/50000]\n",
            "Test Error: \n",
            " Accuracy: 31.3%, Avg loss: 0.278736 \n",
            "\n",
            "Epoch 10\n",
            "-------------------------------\n",
            "loss: 0.274281  [   64/50000]\n",
            "loss: 0.252102  [ 6464/50000]\n",
            "loss: 0.256363  [12864/50000]\n",
            "loss: 0.252564  [19264/50000]\n",
            "loss: 0.258589  [25664/50000]\n",
            "loss: 0.276030  [32064/50000]\n",
            "loss: 0.277701  [38464/50000]\n",
            "loss: 0.274011  [44864/50000]\n",
            "Test Error: \n",
            " Accuracy: 33.4%, Avg loss: 0.277303 \n",
            "\n",
            "Epoch 11\n",
            "-------------------------------\n",
            "loss: 0.266875  [   64/50000]\n",
            "loss: 0.238848  [ 6464/50000]\n",
            "loss: 0.246335  [12864/50000]\n",
            "loss: 0.253121  [19264/50000]\n",
            "loss: 0.241335  [25664/50000]\n",
            "loss: 0.270698  [32064/50000]\n",
            "loss: 0.264624  [38464/50000]\n",
            "loss: 0.264722  [44864/50000]\n",
            "Test Error: \n",
            " Accuracy: 37.1%, Avg loss: 0.265890 \n",
            "\n",
            "Epoch 12\n",
            "-------------------------------\n",
            "loss: 0.260412  [   64/50000]\n",
            "loss: 0.242053  [ 6464/50000]\n",
            "loss: 0.246586  [12864/50000]\n",
            "loss: 0.243034  [19264/50000]\n",
            "loss: 0.241231  [25664/50000]\n",
            "loss: 0.284008  [32064/50000]\n",
            "loss: 0.263662  [38464/50000]\n",
            "loss: 0.250012  [44864/50000]\n",
            "Test Error: \n",
            " Accuracy: 35.8%, Avg loss: 0.268406 \n",
            "\n",
            "Epoch 13\n",
            "-------------------------------\n",
            "loss: 0.257629  [   64/50000]\n",
            "loss: 0.226194  [ 6464/50000]\n",
            "loss: 0.236498  [12864/50000]\n",
            "loss: 0.236209  [19264/50000]\n",
            "loss: 0.237882  [25664/50000]\n",
            "loss: 0.263793  [32064/50000]\n",
            "loss: 0.257032  [38464/50000]\n",
            "loss: 0.268640  [44864/50000]\n",
            "Test Error: \n",
            " Accuracy: 35.7%, Avg loss: 0.272621 \n",
            "\n",
            "Epoch 14\n",
            "-------------------------------\n",
            "loss: 0.259092  [   64/50000]\n",
            "loss: 0.227915  [ 6464/50000]\n",
            "loss: 0.227667  [12864/50000]\n",
            "loss: 0.229338  [19264/50000]\n",
            "loss: 0.231687  [25664/50000]\n",
            "loss: 0.252219  [32064/50000]\n",
            "loss: 0.249651  [38464/50000]\n",
            "loss: 0.249340  [44864/50000]\n",
            "Test Error: \n",
            " Accuracy: 35.8%, Avg loss: 0.270524 \n",
            "\n",
            "Epoch 15\n",
            "-------------------------------\n",
            "loss: 0.245146  [   64/50000]\n",
            "loss: 0.219168  [ 6464/50000]\n",
            "loss: 0.229093  [12864/50000]\n",
            "loss: 0.225736  [19264/50000]\n",
            "loss: 0.233228  [25664/50000]\n",
            "loss: 0.246762  [32064/50000]\n",
            "loss: 0.242246  [38464/50000]\n",
            "loss: 0.251717  [44864/50000]\n",
            "Test Error: \n",
            " Accuracy: 37.5%, Avg loss: 0.268782 \n",
            "\n",
            "Epoch 16\n",
            "-------------------------------\n",
            "loss: 0.235936  [   64/50000]\n",
            "loss: 0.209610  [ 6464/50000]\n",
            "loss: 0.210312  [12864/50000]\n",
            "loss: 0.228126  [19264/50000]\n",
            "loss: 0.217282  [25664/50000]\n",
            "loss: 0.256226  [32064/50000]\n",
            "loss: 0.228044  [38464/50000]\n",
            "loss: 0.247436  [44864/50000]\n",
            "Test Error: \n",
            " Accuracy: 36.5%, Avg loss: 0.272661 \n",
            "\n",
            "Epoch 17\n",
            "-------------------------------\n",
            "loss: 0.241970  [   64/50000]\n",
            "loss: 0.217149  [ 6464/50000]\n",
            "loss: 0.231873  [12864/50000]\n",
            "loss: 0.216801  [19264/50000]\n",
            "loss: 0.214846  [25664/50000]\n",
            "loss: 0.243000  [32064/50000]\n",
            "loss: 0.235954  [38464/50000]\n",
            "loss: 0.255420  [44864/50000]\n",
            "Test Error: \n",
            " Accuracy: 37.0%, Avg loss: 0.270271 \n",
            "\n",
            "Epoch 18\n",
            "-------------------------------\n",
            "loss: 0.232499  [   64/50000]\n",
            "loss: 0.217952  [ 6464/50000]\n",
            "loss: 0.213424  [12864/50000]\n",
            "loss: 0.200582  [19264/50000]\n",
            "loss: 0.212237  [25664/50000]\n",
            "loss: 0.228785  [32064/50000]\n",
            "loss: 0.228600  [38464/50000]\n",
            "loss: 0.254390  [44864/50000]\n",
            "Test Error: \n",
            " Accuracy: 35.2%, Avg loss: 0.280925 \n",
            "\n",
            "Epoch 19\n",
            "-------------------------------\n",
            "loss: 0.221548  [   64/50000]\n",
            "loss: 0.208583  [ 6464/50000]\n",
            "loss: 0.209744  [12864/50000]\n",
            "loss: 0.224924  [19264/50000]\n",
            "loss: 0.213001  [25664/50000]\n",
            "loss: 0.255387  [32064/50000]\n",
            "loss: 0.220241  [38464/50000]\n",
            "loss: 0.244963  [44864/50000]\n",
            "Test Error: \n",
            " Accuracy: 37.2%, Avg loss: 0.267986 \n",
            "\n",
            "Epoch 20\n",
            "-------------------------------\n",
            "loss: 0.199740  [   64/50000]\n",
            "loss: 0.204868  [ 6464/50000]\n",
            "loss: 0.204689  [12864/50000]\n",
            "loss: 0.201006  [19264/50000]\n",
            "loss: 0.216720  [25664/50000]\n",
            "loss: 0.227291  [32064/50000]\n",
            "loss: 0.225202  [38464/50000]\n",
            "loss: 0.227029  [44864/50000]\n",
            "Test Error: \n",
            " Accuracy: 38.5%, Avg loss: 0.263974 \n",
            "\n",
            "Done!\n",
            "TrainAccuracy: [5853.0, 8818.0, 10484.0, 12411.0, 13755.0, 15070.0, 15983.0, 17017.0, 17787.0, 18561.0, 19451.0, 20477.0, 21217.0, 22097.0, 22862.0, 23626.0, 24298.0, 25047.0, 25866.0, 26437.0]\n",
            "TestAccuracy: [11.469999999999999, 21.12, 22.07, 21.92, 25.36, 27.439999999999998, 28.24, 28.77, 31.259999999999998, 33.410000000000004, 37.09, 35.77, 35.730000000000004, 35.79, 37.54, 36.480000000000004, 37.0, 35.18, 37.16, 38.54]\n",
            "TrainLoss: [tensor(0.3258, device='cuda:0', grad_fn=<BinaryCrossEntropyBackward0>), tensor(0.3169, device='cuda:0', grad_fn=<BinaryCrossEntropyBackward0>), tensor(0.3340, device='cuda:0', grad_fn=<BinaryCrossEntropyBackward0>), tensor(0.3086, device='cuda:0', grad_fn=<BinaryCrossEntropyBackward0>), tensor(0.3030, device='cuda:0', grad_fn=<BinaryCrossEntropyBackward0>), tensor(0.2969, device='cuda:0', grad_fn=<BinaryCrossEntropyBackward0>), tensor(0.3102, device='cuda:0', grad_fn=<BinaryCrossEntropyBackward0>), tensor(0.3100, device='cuda:0', grad_fn=<BinaryCrossEntropyBackward0>), tensor(0.3048, device='cuda:0', grad_fn=<BinaryCrossEntropyBackward0>), tensor(0.3062, device='cuda:0', grad_fn=<BinaryCrossEntropyBackward0>), tensor(0.2773, device='cuda:0', grad_fn=<BinaryCrossEntropyBackward0>), tensor(0.2907, device='cuda:0', grad_fn=<BinaryCrossEntropyBackward0>), tensor(0.2883, device='cuda:0', grad_fn=<BinaryCrossEntropyBackward0>), tensor(0.2831, device='cuda:0', grad_fn=<BinaryCrossEntropyBackward0>), tensor(0.2753, device='cuda:0', grad_fn=<BinaryCrossEntropyBackward0>), tensor(0.2624, device='cuda:0', grad_fn=<BinaryCrossEntropyBackward0>), tensor(0.2486, device='cuda:0', grad_fn=<BinaryCrossEntropyBackward0>), tensor(0.2386, device='cuda:0', grad_fn=<BinaryCrossEntropyBackward0>), tensor(0.2396, device='cuda:0', grad_fn=<BinaryCrossEntropyBackward0>), tensor(0.2486, device='cuda:0', grad_fn=<BinaryCrossEntropyBackward0>)]\n"
          ]
        }
      ]
    },
    {
      "cell_type": "code",
      "source": [
        "y = []\n",
        "for i in range(len(train_accuracy)):\n",
        "  y.append(100*train_accuracy[i]/len(train_dataloader.dataset))\n",
        "\n",
        "# Plot training accuracy\n",
        "x = list(range(1, 21))\n",
        "plt.plot(x, y)\n",
        "plt.title(\"Training Accuracy of Task 3 vs Number of Epochs\")\n",
        "plt.show()"
      ],
      "metadata": {
        "colab": {
          "base_uri": "https://localhost:8080/",
          "height": 452
        },
        "id": "R9lT3akGgM3t",
        "outputId": "8cba8b6b-bd75-4dee-b42e-eebcbcaac6a5"
      },
      "execution_count": null,
      "outputs": [
        {
          "output_type": "display_data",
          "data": {
            "text/plain": [
              "<Figure size 640x480 with 1 Axes>"
            ],
            "image/png": "[encoded data removed]"
          },
          "metadata": {}
        }
      ]
    },
    {
      "cell_type": "code",
      "source": [
        "# Plot test accuracy\n",
        "y = test_accuracy\n",
        "x = list(range(1, 21))\n",
        "plt.plot(x, y)\n",
        "plt.title(\"Test Accuracy of Task 3 Number of Epochs\")\n",
        "plt.show()"
      ],
      "metadata": {
        "colab": {
          "base_uri": "https://localhost:8080/",
          "height": 452
        },
        "id": "9HJSWoiZgP4z",
        "outputId": "26bdb5de-2bca-4c55-d6d6-3f2144bd363f"
      },
      "execution_count": null,
      "outputs": [
        {
          "output_type": "display_data",
          "data": {
            "text/plain": [
              "<Figure size 640x480 with 1 Axes>"
            ],
            "image/png": "[encoded data removed]"
          },
          "metadata": {}
        }
      ]
    },
    {
      "cell_type": "code",
      "source": [
        "# Plot training loss\n",
        "y = []\n",
        "for i in train_loss:\n",
        "  y.append(i.item())\n",
        "x = list(range(1, 21))\n",
        "plt.plot(x, y)\n",
        "plt.title(\"Training loss of Task 3 Number of Epochs\")\n",
        "plt.show()"
      ],
      "metadata": {
        "colab": {
          "base_uri": "https://localhost:8080/",
          "height": 452
        },
        "id": "yInils4CeG9B",
        "outputId": "c76ac9e7-ede8-4885-9f02-7da792893c17"
      },
      "execution_count": null,
      "outputs": [
        {
          "output_type": "display_data",
          "data": {
            "text/plain": [
              "<Figure size 640x480 with 1 Axes>"
            ],
            "image/png": "[encoded data removed]"
          },
          "metadata": {}
        }
      ]
    },
    {
      "cell_type": "markdown",
      "metadata": {
        "id": "Q7rrmQsfs8iG"
      },
      "source": [
        "#__Task 4 Weight transfer(Transfer learning)(5 Points)__\n",
        "\n",
        "There can be two possible scenarios when you are given neural network architcture: One is build everything entirely from the scratch, as you implemented above, and the other is using the pretrained model. The former is preferred when there is no pretrained model or you are training with novel(or unpopular) dataset. The latter is generally more preferred, especially if you are working in computer vision or natural langauge processing related area, because most of the pretrained neural network works very well and their pretrained dataset is very large scale such that starting from raw training might consume great amount of time. For the latter case, it's just one line of code:"
      ]
    },
    {
      "cell_type": "code",
      "execution_count": null,
      "metadata": {
        "id": "nIPzylEYX1ZQ"
      },
      "outputs": [],
      "source": [
        "#model = torch.hub.load('pytorch/vision:v0.10.0', 'alexnet', pretrained=True) #DO NOT USE THIS CODE IN THIS ASSIGNMENT"
      ]
    },
    {
      "cell_type": "markdown",
      "metadata": {
        "id": "v3qlhU3nX1ZQ"
      },
      "source": [
        "In this task, we will slightly tweak: You will not use the above code to bring a pretrained model. Instead, you will transfer the weights of the pretrained model to the model you built above. Knowing this will help you later when you want to build your own model but basic flow comes from previous existing models.\n",
        "\n",
        "One thing you should know, and should remember for your future is that Pytorch stores trained weights as a dictionary data structure, the key and value, and their name of the key has a pattern such that you can easily load your desired key and corresponding weights.\n",
        "\n",
        "\n",
        "If your implementation is correct, your final accuracy should be around 80%\n",
        "\n",
        "\n",
        "__TODOs: Implement below weight transfer function. Then train and test your pretrained model.Provide graphs of training accuracy, test accuracy and training loss. Report final accuracy__"
      ]
    },
    {
      "cell_type": "code",
      "execution_count": null,
      "metadata": {
        "id": "vhjaXCUMthJO",
        "colab": {
          "base_uri": "https://localhost:8080/"
        },
        "outputId": "71be11b8-af2f-4eea-93f1-a73fecd86760"
      },
      "outputs": [
        {
          "output_type": "stream",
          "name": "stderr",
          "text": [
            "Downloading: \"https://download.pytorch.org/models/alexnet-owt-4df8aa71.pth\" to /root/.cache/torch/hub/checkpoints/alexnet-owt-4df8aa71.pth\n"
          ]
        }
      ],
      "source": [
        "from torchvision._internally_replaced_utils import load_state_dict_from_url # This is the hint!\n",
        "\n",
        "def Load_Alexnet_Weight_Transferred(pretrained=True, **kwargs):\n",
        "    r\"\"\"AlexNet model architecture from the\n",
        "    `\"One weird trick...\" <https://arxiv.org/abs/1404.5997>`_ paper.\n",
        "\n",
        "    Args:\n",
        "        pretrained (bool): If True, returns a model pre-trained on ImageNet\n",
        "    \"\"\"\n",
        "    model_urls = {\n",
        "            'alexnet': 'https://download.pytorch.org/models/alexnet-owt-4df8aa71.pth',\n",
        "    }    \n",
        "    model = AlexNet().to(device)\n",
        "    state_dict = torch.hub.load_state_dict_from_url(model_urls['alexnet'], progress = False)\n",
        "    #TODO: Initialize weights correctly based on whethet it is pretrained or not\n",
        "    if pretrained:\n",
        "        #Your code here\n",
        "        for k in state_dict:\n",
        "          model.state_dict()[k] = state_dict[k]\n",
        "    return model\n",
        "\n",
        "\n",
        "model_pretrained = Load_Alexnet_Weight_Transferred(pretrained=True)"
      ]
    },
    {
      "cell_type": "code",
      "execution_count": null,
      "metadata": {
        "id": "ORQpheoyuLdQ",
        "colab": {
          "base_uri": "https://localhost:8080/"
        },
        "outputId": "b98d15dc-b1b9-4548-f304-db2c06613ae5"
      },
      "outputs": [
        {
          "output_type": "stream",
          "name": "stdout",
          "text": [
            "Epoch 1\n",
            "-------------------------------\n",
            "loss: 0.694481  [   64/50000]\n",
            "loss: 0.335836  [ 6464/50000]\n",
            "loss: 0.329809  [12864/50000]\n",
            "loss: 0.327420  [19264/50000]\n",
            "loss: 0.326634  [25664/50000]\n",
            "loss: 0.326691  [32064/50000]\n",
            "loss: 0.325305  [38464/50000]\n",
            "loss: 0.322848  [44864/50000]\n",
            "Test Error: \n",
            " Accuracy: 13.3%, Avg loss: 0.326186 \n",
            "\n",
            "Epoch 2\n",
            "-------------------------------\n",
            "loss: 0.324087  [   64/50000]\n",
            "loss: 0.318721  [ 6464/50000]\n",
            "loss: 0.311721  [12864/50000]\n",
            "loss: 0.313789  [19264/50000]\n",
            "loss: 0.319788  [25664/50000]\n",
            "loss: 0.303685  [32064/50000]\n",
            "loss: 0.307003  [38464/50000]\n",
            "loss: 0.307371  [44864/50000]\n",
            "Test Error: \n",
            " Accuracy: 19.9%, Avg loss: 0.306650 \n",
            "\n",
            "Epoch 3\n",
            "-------------------------------\n",
            "loss: 0.306928  [   64/50000]\n",
            "loss: 0.306501  [ 6464/50000]\n",
            "loss: 0.291990  [12864/50000]\n",
            "loss: 0.312488  [19264/50000]\n",
            "loss: 0.319421  [25664/50000]\n",
            "loss: 0.305885  [32064/50000]\n",
            "loss: 0.296802  [38464/50000]\n",
            "loss: 0.294136  [44864/50000]\n",
            "Test Error: \n",
            " Accuracy: 21.2%, Avg loss: 0.301272 \n",
            "\n",
            "Epoch 4\n",
            "-------------------------------\n",
            "loss: 0.296500  [   64/50000]\n",
            "loss: 0.300554  [ 6464/50000]\n",
            "loss: 0.286623  [12864/50000]\n",
            "loss: 0.307593  [19264/50000]\n",
            "loss: 0.304672  [25664/50000]\n",
            "loss: 0.301440  [32064/50000]\n",
            "loss: 0.289011  [38464/50000]\n",
            "loss: 0.289258  [44864/50000]\n",
            "Test Error: \n",
            " Accuracy: 23.1%, Avg loss: 0.294558 \n",
            "\n",
            "Epoch 5\n",
            "-------------------------------\n",
            "loss: 0.291674  [   64/50000]\n",
            "loss: 0.287283  [ 6464/50000]\n",
            "loss: 0.272571  [12864/50000]\n",
            "loss: 0.299281  [19264/50000]\n",
            "loss: 0.300157  [25664/50000]\n",
            "loss: 0.294736  [32064/50000]\n",
            "loss: 0.283261  [38464/50000]\n",
            "loss: 0.285068  [44864/50000]\n",
            "Test Error: \n",
            " Accuracy: 20.8%, Avg loss: 0.303791 \n",
            "\n",
            "Epoch 6\n",
            "-------------------------------\n",
            "loss: 0.301050  [   64/50000]\n",
            "loss: 0.274236  [ 6464/50000]\n",
            "loss: 0.267504  [12864/50000]\n",
            "loss: 0.288695  [19264/50000]\n",
            "loss: 0.285925  [25664/50000]\n",
            "loss: 0.294648  [32064/50000]\n",
            "loss: 0.275353  [38464/50000]\n",
            "loss: 0.275621  [44864/50000]\n",
            "Test Error: \n",
            " Accuracy: 25.2%, Avg loss: 0.290142 \n",
            "\n",
            "Epoch 7\n",
            "-------------------------------\n",
            "loss: 0.294968  [   64/50000]\n",
            "loss: 0.268961  [ 6464/50000]\n",
            "loss: 0.258133  [12864/50000]\n",
            "loss: 0.279568  [19264/50000]\n",
            "loss: 0.278499  [25664/50000]\n",
            "loss: 0.297628  [32064/50000]\n",
            "loss: 0.279462  [38464/50000]\n",
            "loss: 0.277447  [44864/50000]\n",
            "Test Error: \n",
            " Accuracy: 26.4%, Avg loss: 0.289805 \n",
            "\n",
            "Epoch 8\n",
            "-------------------------------\n",
            "loss: 0.294929  [   64/50000]\n",
            "loss: 0.263544  [ 6464/50000]\n",
            "loss: 0.260420  [12864/50000]\n",
            "loss: 0.274587  [19264/50000]\n",
            "loss: 0.264408  [25664/50000]\n",
            "loss: 0.294383  [32064/50000]\n",
            "loss: 0.277560  [38464/50000]\n",
            "loss: 0.276581  [44864/50000]\n",
            "Test Error: \n",
            " Accuracy: 30.0%, Avg loss: 0.278017 \n",
            "\n",
            "Epoch 9\n",
            "-------------------------------\n",
            "loss: 0.280870  [   64/50000]\n",
            "loss: 0.254428  [ 6464/50000]\n",
            "loss: 0.252809  [12864/50000]\n",
            "loss: 0.258743  [19264/50000]\n",
            "loss: 0.258184  [25664/50000]\n",
            "loss: 0.286982  [32064/50000]\n",
            "loss: 0.260807  [38464/50000]\n",
            "loss: 0.262808  [44864/50000]\n",
            "Test Error: \n",
            " Accuracy: 29.4%, Avg loss: 0.281625 \n",
            "\n",
            "Epoch 10\n",
            "-------------------------------\n",
            "loss: 0.281701  [   64/50000]\n",
            "loss: 0.258133  [ 6464/50000]\n",
            "loss: 0.248034  [12864/50000]\n",
            "loss: 0.268696  [19264/50000]\n",
            "loss: 0.252391  [25664/50000]\n",
            "loss: 0.277735  [32064/50000]\n",
            "loss: 0.263451  [38464/50000]\n",
            "loss: 0.265194  [44864/50000]\n",
            "Test Error: \n",
            " Accuracy: 28.2%, Avg loss: 0.286243 \n",
            "\n",
            "Epoch 11\n",
            "-------------------------------\n",
            "loss: 0.286152  [   64/50000]\n",
            "loss: 0.249455  [ 6464/50000]\n",
            "loss: 0.246929  [12864/50000]\n",
            "loss: 0.274174  [19264/50000]\n",
            "loss: 0.251506  [25664/50000]\n",
            "loss: 0.281856  [32064/50000]\n",
            "loss: 0.257537  [38464/50000]\n",
            "loss: 0.249555  [44864/50000]\n",
            "Test Error: \n",
            " Accuracy: 30.0%, Avg loss: 0.281425 \n",
            "\n",
            "Epoch 12\n",
            "-------------------------------\n",
            "loss: 0.275616  [   64/50000]\n",
            "loss: 0.248107  [ 6464/50000]\n",
            "loss: 0.236176  [12864/50000]\n",
            "loss: 0.255357  [19264/50000]\n",
            "loss: 0.251360  [25664/50000]\n",
            "loss: 0.266243  [32064/50000]\n",
            "loss: 0.244117  [38464/50000]\n",
            "loss: 0.255212  [44864/50000]\n",
            "Test Error: \n",
            " Accuracy: 34.4%, Avg loss: 0.266651 \n",
            "\n",
            "Epoch 13\n",
            "-------------------------------\n",
            "loss: 0.266387  [   64/50000]\n",
            "loss: 0.236178  [ 6464/50000]\n",
            "loss: 0.232174  [12864/50000]\n",
            "loss: 0.256500  [19264/50000]\n",
            "loss: 0.238437  [25664/50000]\n",
            "loss: 0.269062  [32064/50000]\n",
            "loss: 0.245607  [38464/50000]\n",
            "loss: 0.262616  [44864/50000]\n",
            "Test Error: \n",
            " Accuracy: 35.8%, Avg loss: 0.263718 \n",
            "\n",
            "Epoch 14\n",
            "-------------------------------\n",
            "loss: 0.257855  [   64/50000]\n",
            "loss: 0.234849  [ 6464/50000]\n",
            "loss: 0.223898  [12864/50000]\n",
            "loss: 0.242756  [19264/50000]\n",
            "loss: 0.229376  [25664/50000]\n",
            "loss: 0.275028  [32064/50000]\n",
            "loss: 0.236259  [38464/50000]\n",
            "loss: 0.254813  [44864/50000]\n",
            "Test Error: \n",
            " Accuracy: 35.9%, Avg loss: 0.266561 \n",
            "\n",
            "Epoch 15\n",
            "-------------------------------\n",
            "loss: 0.253592  [   64/50000]\n",
            "loss: 0.231856  [ 6464/50000]\n",
            "loss: 0.225767  [12864/50000]\n",
            "loss: 0.237794  [19264/50000]\n",
            "loss: 0.221713  [25664/50000]\n",
            "loss: 0.263512  [32064/50000]\n",
            "loss: 0.236312  [38464/50000]\n",
            "loss: 0.249804  [44864/50000]\n",
            "Test Error: \n",
            " Accuracy: 36.6%, Avg loss: 0.267000 \n",
            "\n",
            "Epoch 16\n",
            "-------------------------------\n",
            "loss: 0.246444  [   64/50000]\n",
            "loss: 0.227605  [ 6464/50000]\n",
            "loss: 0.219243  [12864/50000]\n",
            "loss: 0.230369  [19264/50000]\n",
            "loss: 0.215446  [25664/50000]\n",
            "loss: 0.259326  [32064/50000]\n",
            "loss: 0.233576  [38464/50000]\n",
            "loss: 0.242536  [44864/50000]\n",
            "Test Error: \n",
            " Accuracy: 39.3%, Avg loss: 0.259797 \n",
            "\n",
            "Epoch 17\n",
            "-------------------------------\n",
            "loss: 0.235422  [   64/50000]\n",
            "loss: 0.217120  [ 6464/50000]\n",
            "loss: 0.204208  [12864/50000]\n",
            "loss: 0.225502  [19264/50000]\n",
            "loss: 0.213639  [25664/50000]\n",
            "loss: 0.259291  [32064/50000]\n",
            "loss: 0.214255  [38464/50000]\n",
            "loss: 0.242557  [44864/50000]\n",
            "Test Error: \n",
            " Accuracy: 37.1%, Avg loss: 0.270911 \n",
            "\n",
            "Epoch 18\n",
            "-------------------------------\n",
            "loss: 0.237391  [   64/50000]\n",
            "loss: 0.217488  [ 6464/50000]\n",
            "loss: 0.194336  [12864/50000]\n",
            "loss: 0.220628  [19264/50000]\n",
            "loss: 0.213183  [25664/50000]\n",
            "loss: 0.235054  [32064/50000]\n",
            "loss: 0.215516  [38464/50000]\n",
            "loss: 0.226659  [44864/50000]\n",
            "Test Error: \n",
            " Accuracy: 36.5%, Avg loss: 0.287765 \n",
            "\n",
            "Epoch 19\n",
            "-------------------------------\n",
            "loss: 0.228915  [   64/50000]\n",
            "loss: 0.224853  [ 6464/50000]\n",
            "loss: 0.189806  [12864/50000]\n",
            "loss: 0.209760  [19264/50000]\n",
            "loss: 0.216471  [25664/50000]\n",
            "loss: 0.236536  [32064/50000]\n",
            "loss: 0.212444  [38464/50000]\n",
            "loss: 0.228504  [44864/50000]\n",
            "Test Error: \n",
            " Accuracy: 38.6%, Avg loss: 0.267209 \n",
            "\n",
            "Epoch 20\n",
            "-------------------------------\n",
            "loss: 0.222293  [   64/50000]\n",
            "loss: 0.200615  [ 6464/50000]\n",
            "loss: 0.188976  [12864/50000]\n",
            "loss: 0.201783  [19264/50000]\n",
            "loss: 0.201438  [25664/50000]\n",
            "loss: 0.241867  [32064/50000]\n",
            "loss: 0.198796  [38464/50000]\n",
            "loss: 0.217472  [44864/50000]\n",
            "Test Error: \n",
            " Accuracy: 39.4%, Avg loss: 0.267115 \n",
            "\n",
            "Done!\n",
            "TrainAccuracy: [5556.0, 8712.0, 10676.0, 12442.0, 13710.0, 14694.0, 15609.0, 16456.0, 17335.0, 18216.0, 19131.0, 19892.0, 20872.0, 21861.0, 22763.0, 23781.0, 24824.0, 25856.0, 26606.0, 27350.0]\n",
            "TestAccuracy: [13.34, 19.869999999999997, 21.18, 23.119999999999997, 20.79, 25.169999999999998, 26.43, 30.009999999999998, 29.4, 28.23, 29.98, 34.44, 35.82, 35.88, 36.64, 39.31, 37.07, 36.5, 38.6, 39.42]\n",
            "TrainLoss: [tensor(0.3234, device='cuda:0', grad_fn=<BinaryCrossEntropyBackward0>), tensor(0.3143, device='cuda:0', grad_fn=<BinaryCrossEntropyBackward0>), tensor(0.3138, device='cuda:0', grad_fn=<BinaryCrossEntropyBackward0>), tensor(0.2959, device='cuda:0', grad_fn=<BinaryCrossEntropyBackward0>), tensor(0.3054, device='cuda:0', grad_fn=<BinaryCrossEntropyBackward0>), tensor(0.2853, device='cuda:0', grad_fn=<BinaryCrossEntropyBackward0>), tensor(0.2930, device='cuda:0', grad_fn=<BinaryCrossEntropyBackward0>), tensor(0.2866, device='cuda:0', grad_fn=<BinaryCrossEntropyBackward0>), tensor(0.2816, device='cuda:0', grad_fn=<BinaryCrossEntropyBackward0>), tensor(0.2847, device='cuda:0', grad_fn=<BinaryCrossEntropyBackward0>), tensor(0.2814, device='cuda:0', grad_fn=<BinaryCrossEntropyBackward0>), tensor(0.2681, device='cuda:0', grad_fn=<BinaryCrossEntropyBackward0>), tensor(0.2689, device='cuda:0', grad_fn=<BinaryCrossEntropyBackward0>), tensor(0.2677, device='cuda:0', grad_fn=<BinaryCrossEntropyBackward0>), tensor(0.2757, device='cuda:0', grad_fn=<BinaryCrossEntropyBackward0>), tensor(0.2490, device='cuda:0', grad_fn=<BinaryCrossEntropyBackward0>), tensor(0.2608, device='cuda:0', grad_fn=<BinaryCrossEntropyBackward0>), tensor(0.2482, device='cuda:0', grad_fn=<BinaryCrossEntropyBackward0>), tensor(0.2207, device='cuda:0', grad_fn=<BinaryCrossEntropyBackward0>), tensor(0.2291, device='cuda:0', grad_fn=<BinaryCrossEntropyBackward0>)]\n"
          ]
        }
      ],
      "source": [
        "#Use your previous training and test loops, but don't forget to use above model\n",
        "trainAccu = []\n",
        "loss2 = []\n",
        "testAccu = []\n",
        "epochs = 20\n",
        "optimizer=torch.torch.optim.SGD(model_pretrained.parameters(),lr=0.1)\n",
        "for t in range(epochs):\n",
        "    print(f\"Epoch {t+1}\\n-------------------------------\")\n",
        "    train_accu, loss = train(train_dataloader, model_pretrained, loss_fn, optimizer)\n",
        "    trainAccu.append(train_accu)\n",
        "    loss2.append(loss)\n",
        "    correct = test(test_dataloader, model_pretrained , loss_fn)\n",
        "    testAccu.append(correct)\n",
        "print(\"Done!\")\n",
        "print(f\"TrainAccuracy: {trainAccu}\")\n",
        "print(f\"TestAccuracy: {testAccu}\")\n",
        "print(f\"TrainLoss: {loss2}\")"
      ]
    },
    {
      "cell_type": "code",
      "source": [
        "y = []\n",
        "for i in range(len(trainAccu)):\n",
        "  y.append(100*trainAccu[i]/len(train_dataloader.dataset))\n",
        "\n",
        "# Plot training accuracy\n",
        "x = list(range(1, 21))\n",
        "plt.plot(x, y)\n",
        "plt.title(\"Training Accuracy of Task 4 vs Number of Epochs\")\n",
        "plt.show()"
      ],
      "metadata": {
        "colab": {
          "base_uri": "https://localhost:8080/",
          "height": 452
        },
        "id": "zzpO9K87Y6Un",
        "outputId": "059d95be-12b4-4188-a4e7-c495bb6ead47"
      },
      "execution_count": null,
      "outputs": [
        {
          "output_type": "display_data",
          "data": {
            "text/plain": [
              "<Figure size 640x480 with 1 Axes>"
            ],
            "image/png": "[encoded data removed]"
          },
          "metadata": {}
        }
      ]
    },
    {
      "cell_type": "code",
      "source": [
        "# Plot test accuracy\n",
        "y = testAccu\n",
        "x = list(range(1, 21))\n",
        "plt.plot(x, y)\n",
        "plt.title(\"Test Accuracy of Task 4 Number of Epochs\")\n",
        "plt.show()"
      ],
      "metadata": {
        "colab": {
          "base_uri": "https://localhost:8080/",
          "height": 452
        },
        "id": "DiawYdPnZEx3",
        "outputId": "22618e90-39fe-4d6e-80ec-1de60bfa7f01"
      },
      "execution_count": null,
      "outputs": [
        {
          "output_type": "display_data",
          "data": {
            "text/plain": [
              "<Figure size 640x480 with 1 Axes>"
            ],
            "image/png": "[encoded data removed]"
          },
          "metadata": {}
        }
      ]
    },
    {
      "cell_type": "code",
      "source": [
        "# Plot training loss\n",
        "y = []\n",
        "for i in loss2:\n",
        "  y.append(i.item())\n",
        "x = list(range(1, 21))\n",
        "plt.plot(x, y)\n",
        "plt.title(\"Training loss of Task 4 Number of Epochs\")\n",
        "plt.show()"
      ],
      "metadata": {
        "colab": {
          "base_uri": "https://localhost:8080/",
          "height": 452
        },
        "id": "to1EK70OZNvI",
        "outputId": "fa5ab40c-52b7-4272-a09f-169353c961ea"
      },
      "execution_count": null,
      "outputs": [
        {
          "output_type": "display_data",
          "data": {
            "text/plain": [
              "<Figure size 640x480 with 1 Axes>"
            ],
            "image/png": "[encoded data removed]"
          },
          "metadata": {}
        }
      ]
    },
    {
      "cell_type": "markdown",
      "metadata": {
        "id": "CcFagOoi1HuU"
      },
      "source": [
        "#__Task 5 Evaluate your model(10 Points)__\n",
        "\n",
        "You have a full loop of both train and test. Let's see how good your model is. In the lecture, we learned precision, recall. In addition to these metrics, one way to visualize our model performance is to show a heatmap of classification result. You need to build a (# classes)x(# classes) matrix. Then, for each sample in the test set with a true label ith class, we can get jth class through your model. Then we add a value to matrix[i][j], then we normalize the matrix. By doing so, we can visually show our performance. Remember that in CIFAR10, we have 10 classes. \n",
        "\n",
        "__TODOs__\n",
        "1. Visualize the heatmap, and report which class showed most accurate, and which 'task' showed most mistakes, i.e, predicted j when the true label is i.\n",
        "2. Provide 3 cases of failed prediction with most mistakes 'task'. So you should show a total of 6 images here. Briefly write why you think the model can't predict well."
      ]
    },
    {
      "cell_type": "code",
      "execution_count": null,
      "metadata": {
        "id": "EhA6JV_b13QH",
        "colab": {
          "base_uri": "https://localhost:8080/",
          "height": 240
        },
        "outputId": "9c37c868-04b9-4284-acb0-8834205f7148"
      },
      "outputs": [
        {
          "output_type": "error",
          "ename": "IndexError",
          "evalue": "ignored",
          "traceback": [
            "\u001b[0;31m---------------------------------------------------------------------------\u001b[0m",
            "\u001b[0;31mIndexError\u001b[0m                                Traceback (most recent call last)",
            "\u001b[0;32m<ipython-input-31-482a47ddf40b>\u001b[0m in \u001b[0;36m<cell line: 14>\u001b[0;34m()\u001b[0m\n\u001b[1;32m     23\u001b[0m       \u001b[0mpred\u001b[0m \u001b[0;34m=\u001b[0m \u001b[0mpred\u001b[0m\u001b[0;34m.\u001b[0m\u001b[0mfloat\u001b[0m\u001b[0;34m(\u001b[0m\u001b[0;34m)\u001b[0m\u001b[0;34m\u001b[0m\u001b[0;34m\u001b[0m\u001b[0m\n\u001b[1;32m     24\u001b[0m       \u001b[0myOH\u001b[0m \u001b[0;34m=\u001b[0m \u001b[0my\u001b[0m\u001b[0;34m.\u001b[0m\u001b[0mfloat\u001b[0m\u001b[0;34m(\u001b[0m\u001b[0;34m)\u001b[0m\u001b[0;34m\u001b[0m\u001b[0;34m\u001b[0m\u001b[0m\n\u001b[0;32m---> 25\u001b[0;31m       \u001b[0mlen\u001b[0m \u001b[0;34m=\u001b[0m \u001b[0;34m(\u001b[0m\u001b[0myOH\u001b[0m\u001b[0;34m.\u001b[0m\u001b[0margmax\u001b[0m\u001b[0;34m(\u001b[0m\u001b[0;36m1\u001b[0m\u001b[0;34m)\u001b[0m\u001b[0;34m)\u001b[0m\u001b[0;34m\u001b[0m\u001b[0;34m\u001b[0m\u001b[0m\n\u001b[0m\u001b[1;32m     26\u001b[0m       \u001b[0mprint\u001b[0m\u001b[0;34m(\u001b[0m\u001b[0mlen\u001b[0m\u001b[0;34m)\u001b[0m\u001b[0;34m\u001b[0m\u001b[0;34m\u001b[0m\u001b[0m\n\u001b[1;32m     27\u001b[0m       \u001b[0;32mfor\u001b[0m \u001b[0mi\u001b[0m \u001b[0;32min\u001b[0m \u001b[0mrange\u001b[0m\u001b[0;34m(\u001b[0m\u001b[0mlen\u001b[0m\u001b[0;34m)\u001b[0m\u001b[0;34m:\u001b[0m\u001b[0;34m\u001b[0m\u001b[0;34m\u001b[0m\u001b[0m\n",
            "\u001b[0;31mIndexError\u001b[0m: Dimension out of range (expected to be in range of [-1, 0], but got 1)"
          ]
        }
      ],
      "source": [
        "device = \"cuda\" if torch.cuda.is_available() else \"mps\" if torch.backends.mps.is_available() else \"cpu\"\n",
        "dataloader = test_dataloader\n",
        "model = AlexNet().to(device)\n",
        "model.eval()\n",
        "model= Load_Alexnet_Weight_Transferred(pretrained=True)\n",
        "model.eval()\n",
        "model.cuda()\n",
        "matrix = np.zeros((10,10))\n",
        "#optimizer=torch.torch.optim.SGD(model.parameters(),lr=0.1)\n",
        "#scheduler = torch.optim.lr_scheduler.ReduceLROnPlateau(optimizer, 'min')\n",
        "cell1 = -1\n",
        "cell2 = -1\n",
        "cell3 = -1\n",
        "with torch.no_grad():\n",
        "  for X, y in dataloader:\n",
        "      X, y = X.to(device), y.to(device)\n",
        "      pred = model(X)\n",
        "      yOH = F.one_hot(y, num_classes=10)\n",
        "      final_layer=nn.MaxPool2d((pred.size(2),pred.size(3)))\n",
        "      pred = final_layer(pred)\n",
        "      pred = torch.reshape(pred,(-1,10))#(-1,10)\n",
        "      pred = F.sigmoid(pred)\n",
        "      pred = pred.float()\n",
        "      yOH = y.float()\n",
        "      len = (yOH.argmax(1))\n",
        "      print(len)\n",
        "      for i in range(len):\n",
        "        if cell1 == -1 and y.argmax(1)[i] == 1 and pred.argmax(1)[i] == 2:\n",
        "          cell1 = i\n",
        "        if cell2 == -1 and y.argmax(1)[i] == 1 and pred.argmax(1)[i] == 3:\n",
        "          cell2 = i\n",
        "        if cell3 == -1 and y.argmax(1)[i] == 1 and pred.argmax(1)[i] == 9:\n",
        "          cell3 = i\n",
        "        matrix[y.argmax(1)[i]-1][pred.argmax(1)[i]-1] += 1\n"
      ]
    },
    {
      "cell_type": "code",
      "source": [],
      "metadata": {
        "id": "apzCRbdztqFb"
      },
      "execution_count": null,
      "outputs": []
    },
    {
      "cell_type": "markdown",
      "metadata": {
        "id": "A4ABfPvHX1ZQ"
      },
      "source": [
        "Write analysis here"
      ]
    },
    {
      "cell_type": "markdown",
      "metadata": {
        "id": "sL2mSuhd2IlY"
      },
      "source": [
        "#__Task 6 Create your own model(10 Points OR 10 Points + 10 Bonus Points)__\n",
        "\n",
        "You have two options, and this task is open ended. \n",
        "\n",
        "Make your own model. Name the model class with your name(e.g. YoungJeNet). Briefly describe how you organized your model architecture and pipeline, and why you proposed such architecture (feel free to take inspiration from common architectures, and please reference any tutorials/guides that you use). Feel free to use your designed DataLoader and feel free to weight shift from any different model. Also feel free to use your training and test loop.\n",
        "With your defined model, run your pipeline on a new dataset and provide graphs of training accuracy and training loss, and report final accuracy.\n",
        "\n",
        "Do NOT just bring pretrained model: Like model=some_kind_of_pretrained_model(pretrain=True)\n",
        "\n",
        "For your new dataset, choose one of the following options:\n",
        "1. (10 Points) One of the following standard datasets: CIFAR10, PASCAL VOC, CALTECH256, or ImageNet2012.\n",
        "\n",
        "2. (10 Points + 10 Bonus Points) Find a dataset of your interest in biology. We are giving bonus points here because you need to describe further about your dataset and may need to work more with Dataloader.\n",
        "\n",
        "Please be mind that if you choose 2, this should not be part of your project.\n",
        "\n",
        "Your score will be determined based on 1. Description of dataset 2. Clearly stated idea and correctly implemented the idea. 3. Not too low accuracy. Please be aware that accuracy is not the only criterion here."
      ]
    },
    {
      "cell_type": "code",
      "execution_count": null,
      "metadata": {
        "id": "slI2EiM12mZI"
      },
      "outputs": [],
      "source": [
        "#Your Model"
      ]
    },
    {
      "cell_type": "markdown",
      "metadata": {
        "id": "wokhgv7d6oOL"
      },
      "source": [
        "(Option) For your career, we encourage you to upload your work on Github. Github is a repository for programmers. This repo can be useful to your future career, especially if you aim to work in a computational job: provide your Github link to recruiter/research POI. By doing so, you can show your recruiter/research POI that you have fundamental ability to work with deep learning and being able to code Pytorch."
      ]
    },
    {
      "cell_type": "markdown",
      "metadata": {
        "id": "DHIHJqrc4QMv"
      },
      "source": [
        "Congratulations! Now you understand the basic flow of deep learning workflow. CMU provides a variety of deep learning courses, so we recommend taking any of them if you are interested or strengthen your knowledge and skills in deep learning. If you want to learn general deep learning, consider 11-685 Introduction to Deep learning. Be careful that this course is very hectic. LTI and RI offer domain specific deep learning courses(such as Natural Language Processing, Visual Learning and Recognition). If you want to know deep learning theory, consider 10-707. Please be aware that what we've covered in this assignment is very basic: this is going to be assignment 0 for other deep learning courses. However, we believe that this assignment will work as a immigration assignment to deep learning."
      ]
    },
    {
      "cell_type": "code",
      "execution_count": null,
      "metadata": {
        "id": "U5LEAg_LX1ZR"
      },
      "outputs": [],
      "source": []
    }
  ],
  "metadata": {
    "colab": {
      "provenance": []
    },
    "kernelspec": {
      "display_name": "Python 3 (ipykernel)",
      "language": "python",
      "name": "python3"
    },
    "language_info": {
      "codemirror_mode": {
        "name": "ipython",
        "version": 3
      },
      "file_extension": ".py",
      "mimetype": "text/x-python",
      "name": "python",
      "nbconvert_exporter": "python",
      "pygments_lexer": "ipython3",
      "version": "3.9.13"
    },
    "vscode": {
      "interpreter": {
        "hash": "70d57c135da11913b2ad31fa6150ab201732e694e7c1a956b2909783da6a3273"
      }
    },
    "accelerator": "GPU",
    "gpuClass": "standard"
  },
  "nbformat": 4,
  "nbformat_minor": 0
}